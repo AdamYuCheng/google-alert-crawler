{
 "cells": [
  {
   "cell_type": "code",
   "execution_count": 2,
   "metadata": {},
   "outputs": [],
   "source": [
    "from selenium import webdriver\n",
    "from selenium.webdriver.chrome.options import Options\n",
    "from bs4 import BeautifulSoup\n",
    "import time"
   ]
  },
  {
   "cell_type": "markdown",
   "metadata": {},
   "source": [
    "# Get URL"
   ]
  },
  {
   "cell_type": "code",
   "execution_count": 3,
   "metadata": {},
   "outputs": [],
   "source": [
    "# 啟動driver\n",
    "# chrome_options = Options()  \n",
    "# chrome_options.add_argument(\"--headless\")\n",
    "# driver = webdriver.Chrome(executable_path='./chromedriver', chrome_options=chrome_options)\n",
    "driver = webdriver.Chrome(executable_path='./chromedriver')\n",
    "\n",
    "# 連線到google alert\n",
    "# driver.get('https://www.google.com/alerts')\n",
    "driver.get('https://www.google.com/alerts?hl=zh-tw#1:1')"
   ]
  },
  {
   "cell_type": "markdown",
   "metadata": {},
   "source": [
    "# Crawler"
   ]
  },
  {
   "cell_type": "code",
   "execution_count": 33,
   "metadata": {},
   "outputs": [
    {
     "name": "stdout",
     "output_type": "stream",
     "text": [
      "新聞\n",
      "網頁標題: 太累被拍到閉目養神？ 陳時中：眼睛太小被誤會\n",
      "網頁連結: https://www.google.com/url?rct=j&sa=t&url=https://newtalk.tw/news/view/2020-10-12/477827&ct=ga&cd=CAAYADIdMDIwZWE3OWI3ZDZlMjM3Njpjb206emgtVFc6VVM&usg=AFQjCNFnLDXKCCvQe8gqGGKcHB69qazECA\n",
      "\n",
      "網頁標題: 葉毓蘭藉川普諷防疫陳時中：不必幸災樂禍\n",
      "網頁連結: https://www.google.com/url?rct=j&sa=t&url=https://www.storm.mg/article/3081829&ct=ga&cd=CAAYATIdMDIwZWE3OWI3ZDZlMjM3Njpjb206emgtVFc6VVM&usg=AFQjCNEUkbtJXIBiqvwpI3uC92iVCt4sXg\n",
      "\n",
      "網頁標題: 開放萊豬名醫嗆吃蟑螂？陳時中回應了\n",
      "網頁連結: https://www.google.com/url?rct=j&sa=t&url=https://tw.news.yahoo.com/%25E9%2596%258B%25E6%2594%25BE%25E8%2590%258A%25E8%25B1%25AC%25E5%2590%258D%25E9%2586%25AB%25E5%2597%2586%25E5%2590%2583%25E8%259F%2591%25E8%259E%2582-%25E9%2599%25B3%25E6%2599%2582%25E4%25B8%25AD%25E5%259B%259E%25E6%2587%2589%25E4%25BA%2586-025022894.html&ct=ga&cd=CAAYAjIdMDIwZWE3OWI3ZDZlMjM3Njpjb206emgtVFc6VVM&usg=AFQjCNHbR3XIcyJBUOrHxJrseD8Oj3dzBA\n",
      "\n",
      "網頁標題: 直播》衛環公聽會陳時中與蔣萬安攻防成焦點\n",
      "網頁連結: https://www.google.com/url?rct=j&sa=t&url=https://tw.news.yahoo.com/%25E7%259B%25B4%25E6%2592%25AD-%25E8%25A1%259B%25E7%2592%25B0%25E5%2585%25AC%25E8%2581%25BD%25E6%259C%2583-%25E9%2599%25B3%25E6%2599%2582%25E4%25B8%25AD%25E8%2588%2587%25E8%2594%25A3%25E8%2590%25AC%25E5%25AE%2589%25E6%2594%25BB%25E9%2598%25B2%25E6%2588%2590%25E7%2584%25A6%25E9%25BB%259E-011636460.html&ct=ga&cd=CAAYAzIdMDIwZWE3OWI3ZDZlMjM3Njpjb206emgtVFc6VVM&usg=AFQjCNEmRTpXq1u1QOy5eV1MR_4puAyaLQ\n",
      "\n",
      "網頁標題: 蔡文告未提美豬藍不排除甲動再戰陳時中12號公聽會對陳問到飽再突襲逼綠委表態與綠道不同不相謀 ...\n",
      "網頁連結: https://www.google.com/url?rct=j&sa=t&url=https://www.ttv.com.tw/news/view/10910110021400L/579&ct=ga&cd=CAAYBDIdMDIwZWE3OWI3ZDZlMjM3Njpjb206emgtVFc6VVM&usg=AFQjCNEXbIKmI_zCuNyTspcq5R1jgJm_gw\n",
      "\n",
      "網頁標題: 立院美豬週登場挑戰9項行政命令\n",
      "網頁連結: https://www.google.com/url?rct=j&sa=t&url=https://tw.news.yahoo.com/%25E7%25AB%258B%25E9%2599%25A2%25E7%25BE%258E%25E8%25B1%25AC%25E9%2580%25B1%25E7%2599%25BB%25E5%25A0%25B4-%25E6%258C%2591%25E6%2588%25B09%25E9%25A0%2585%25E8%25A1%258C%25E6%2594%25BF%25E5%2591%25BD%25E4%25BB%25A4-192118721.html&ct=ga&cd=CAAYBTIdMDIwZWE3OWI3ZDZlMjM3Njpjb206emgtVFc6VVM&usg=AFQjCNHdrFP2P00wnKyWnPlBbOZ5K94Guw\n",
      "\n",
      "網頁標題: 公費疫苗又進貨了輔大醫院12日開放施打\n",
      "網頁連結: https://www.google.com/url?rct=j&sa=t&url=https://udn.com/news/story/121728/4926886&ct=ga&cd=CAAYBjIdMDIwZWE3OWI3ZDZlMjM3Njpjb206emgtVFc6VVM&usg=AFQjCNF1YMxVVHQPH3DzLHU3XJHqROvZYQ\n",
      "\n",
      "網頁標題: 首波旅遊泡泡台灣帛琉團體行\n",
      "網頁連結: https://www.google.com/url?rct=j&sa=t&url=https://udn.com/news/story/7266/4928055%3Ffrom%3Dudn_ch2_menu_v2_main_cate&ct=ga&cd=CAAYBzIdMDIwZWE3OWI3ZDZlMjM3Njpjb206emgtVFc6VVM&usg=AFQjCNHE3WGqL83131ZlNZchiDl8PBoIDw\n",
      "\n",
      "網頁標題: 10月12日台灣重要活動預告\n",
      "網頁連結: https://www.google.com/url?rct=j&sa=t&url=https://www.ntdtv.com.tw/b5/20201012/video/280720.html%3F10%25E6%259C%258812%25E6%2597%25A5%2520%25E5%258F%25B0%25E7%2581%25A3%25E9%2587%258D%25E8%25A6%2581%25E6%25B4%25BB%25E5%258B%2595%25E9%25A0%2590%25E5%2591%258A&ct=ga&cd=CAAYCDIdMDIwZWE3OWI3ZDZlMjM3Njpjb206emgtVFc6VVM&usg=AFQjCNF7_osZ7_6w5ufg8MTyrrBAhPuFbg\n",
      "\n",
      "網頁標題: 提升資產防禦力台新投信高收益債基金聚焦「提前買回」\n",
      "網頁連結: https://www.google.com/url?rct=j&sa=t&url=https://www.storm.mg/article/3054101&ct=ga&cd=CAAYCTIdMDIwZWE3OWI3ZDZlMjM3Njpjb206emgtVFc6VVM&usg=AFQjCNFmVjtneyNXPBuLnTeO-kX_gEJiaQ\n",
      "\n"
     ]
    }
   ],
   "source": [
    "# 輸入關鍵字\n",
    "search_bar = driver.find_element_by_xpath('//*[@id=\"query_div\"]/input')\n",
    "search_bar.clear()\n",
    "search_bar.send_keys('陳時中')\n",
    "time.sleep(2)\n",
    "\n",
    "# 點選進階選項\n",
    "# show_option = driver.find_element_by_xpath('//*[@id=\"create-alert-div\"]/div[2]/div[2]/div[2]/span[3]')\n",
    "# show_option.click()\n",
    "\n",
    "# 選擇中文\n",
    "# select_language = driver.find_element_by_xpath('//*[@id=\"create-alert-options\"]/table/tbody/tr[3]/td[2]/div')\n",
    "# time.sleep(1)\n",
    "\n",
    "# 取得preview set\n",
    "preview_set = driver.find_elements_by_xpath('//*[@id=\"preview_results\"]/ul/li')\n",
    "\n",
    "for preview in preview_set:\n",
    "    # 掛上bs4物件\n",
    "    html_source = preview.get_attribute('innerHTML')\n",
    "    soup = BeautifulSoup(html_source, 'html.parser')\n",
    "    \n",
    "    # 資訊來源\n",
    "    print(soup.h3.text)\n",
    "    \n",
    "    # 每筆資料\n",
    "    for l in soup.find_all('li', class_='result'):\n",
    "        if len(l.a.text.replace(' ', '')) > 0:\n",
    "            print(f'網頁標題: {l.a.text}')\n",
    "            print(f\"網頁連結: {l.a.attrs['href']}\")\n",
    "            print()\n",
    "        else:\n",
    "            print(f'網頁標題: {l.h4.a.text}')\n",
    "            print(f\"網頁連結: {l.h4.a.attrs['href']}\")\n",
    "            print()"
   ]
  }
 ],
 "metadata": {
  "kernelspec": {
   "display_name": "analytic",
   "language": "python",
   "name": "analytic"
  },
  "language_info": {
   "codemirror_mode": {
    "name": "ipython",
    "version": 3
   },
   "file_extension": ".py",
   "mimetype": "text/x-python",
   "name": "python",
   "nbconvert_exporter": "python",
   "pygments_lexer": "ipython3",
   "version": "3.7.6"
  }
 },
 "nbformat": 4,
 "nbformat_minor": 4
}
